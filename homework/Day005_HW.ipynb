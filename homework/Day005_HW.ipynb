{
 "cells": [
  {
   "cell_type": "markdown",
   "metadata": {},
   "source": [
    "# API 資料串接 - 以 Dcard API 實作範例\n",
    "\n",
    "* 了解 Dcard API 使用方式與回傳內容\n",
    "* 撰寫程式存取 API 且解析 JSON 格式資料\n"
   ]
  },
  {
   "cell_type": "markdown",
   "metadata": {},
   "source": [
    "## 作業目標\n",
    "\n",
    "* 請利用 API: https://www.dcard.tw/_api/forums/pet/posts?popular=true 回答下列問題：\n",
    "\n",
    "1. 這個 API 一次會回傳幾筆資料？每一筆資料包含哪些欄位？\n",
    "2. 取出每一筆資料的「標題」、「貼文時間」、「留言人數」、「按讚人數」\n",
    "3. 計算熱門/非熱門文章的「平均留言人數」與「平均按讚人數」"
   ]
  },
  {
   "cell_type": "code",
   "execution_count": 4,
   "metadata": {},
   "outputs": [
    {
     "data": {
      "text/plain": [
       "{'id': 232803071,\n",
       " 'title': '有人缺鬧鐘嗎？',\n",
       " 'excerpt': '2020第一天叫醒我的三台鬧鐘，不得不推真的超好用 超盡責 不用上班還硬要把你叫醒🤦\\u200d️🤦\\u200d️🤦\\u200d️，好東西一定要和大家分享呀！，第一台 推薦給淺眠易驚醒的人使用，只會小聲喵喵叫 不會讓你被嚇到',\n",
       " 'anonymousSchool': False,\n",
       " 'anonymousDepartment': False,\n",
       " 'pinned': False,\n",
       " 'forumId': '7ee21581-1307-4ba9-b9dc-82028bdcca49',\n",
       " 'replyId': None,\n",
       " 'createdAt': '2020-01-01T05:52:23.065Z',\n",
       " 'updatedAt': '2020-01-01T06:10:26.660Z',\n",
       " 'commentCount': 16,\n",
       " 'likeCount': 1031,\n",
       " 'withNickname': True,\n",
       " 'tags': [],\n",
       " 'topics': ['貓', '鬧鐘', '寵物', '米克斯'],\n",
       " 'meta': {'layout': 'classic'},\n",
       " 'forumName': '寵物',\n",
       " 'forumAlias': 'pet',\n",
       " 'gender': 'M',\n",
       " 'school': '3catbabe',\n",
       " 'department': 'alvin_may',\n",
       " 'replyTitle': None,\n",
       " 'mediaMeta': [{'id': '10589817-0fdc-4301-8b17-a31078890084',\n",
       "   'url': 'https://i.imgur.com/ErHg8pml.jpg',\n",
       "   'normalizedUrl': 'https://i.imgur.com/ErHg8pml.jpg',\n",
       "   'thumbnail': 'https://i.imgur.com/ErHg8pml.jpg',\n",
       "   'type': 'image/thumbnail',\n",
       "   'tags': ['ANNOTATED'],\n",
       "   'createdAt': '2020-01-01T05:52:23.065Z',\n",
       "   'updatedAt': '2020-01-01T06:10:26.660Z'},\n",
       "  {'id': '10589817-0fdc-4301-8b17-a31078890084',\n",
       "   'url': 'https://i.imgur.com/ErHg8pm.jpg',\n",
       "   'normalizedUrl': 'https://imgur.com/ErHg8pm',\n",
       "   'thumbnail': 'https://i.imgur.com/ErHg8pml.jpg',\n",
       "   'type': 'image/imgur',\n",
       "   'tags': ['ANNOTATED'],\n",
       "   'createdAt': '2020-01-01T05:52:23.065Z',\n",
       "   'updatedAt': '2020-01-01T06:10:26.660Z'},\n",
       "  {'id': '9e6feac3-f41c-47eb-abf9-a405550dede9',\n",
       "   'url': 'https://i.imgur.com/BTNsioK.jpg',\n",
       "   'normalizedUrl': 'https://imgur.com/BTNsioK',\n",
       "   'thumbnail': 'https://i.imgur.com/BTNsioKl.jpg',\n",
       "   'type': 'image/imgur',\n",
       "   'tags': ['ANNOTATED'],\n",
       "   'createdAt': '2020-01-01T05:52:23.065Z',\n",
       "   'updatedAt': '2020-01-01T06:10:26.660Z'},\n",
       "  {'id': '4a7325dd-82b6-47e3-bf2f-dc475e81fe7d',\n",
       "   'url': 'https://i.imgur.com/CzgTlBw.jpg',\n",
       "   'normalizedUrl': 'https://imgur.com/CzgTlBw',\n",
       "   'thumbnail': 'https://i.imgur.com/CzgTlBwl.jpg',\n",
       "   'type': 'image/imgur',\n",
       "   'tags': ['ANNOTATED'],\n",
       "   'createdAt': '2020-01-01T05:52:23.065Z',\n",
       "   'updatedAt': '2020-01-01T06:10:26.660Z'},\n",
       "  {'id': '8ece54ab-c1a0-46b2-9722-22c5b14d79e5',\n",
       "   'url': 'https://www.dcard.tw/v2/vivid/videos/87e2cb19-12d9-4d5a-82de-49ca8ab44a0c?r=0.68125',\n",
       "   'normalizedUrl': '',\n",
       "   'thumbnail': 'https://vivid.dcard.tw/Public/87e2cb19-12d9-4d5a-82de-49ca8ab44a0c/thumbnail.jpg',\n",
       "   'type': 'video/vivid',\n",
       "   'tags': ['ANNOTATED_FAILED'],\n",
       "   'createdAt': '2020-01-01T05:52:23.065Z',\n",
       "   'updatedAt': '2020-01-01T06:10:26.660Z'},\n",
       "  {'id': '28e231d1-7266-497b-95ad-5a4a4065df45',\n",
       "   'url': 'https://i.imgur.com/Ih06T14.jpg',\n",
       "   'normalizedUrl': 'https://imgur.com/Ih06T14',\n",
       "   'thumbnail': 'https://i.imgur.com/Ih06T14l.jpg',\n",
       "   'type': 'image/imgur',\n",
       "   'tags': ['ANNOTATED'],\n",
       "   'createdAt': '2020-01-01T05:52:23.065Z',\n",
       "   'updatedAt': '2020-01-01T06:10:26.660Z'},\n",
       "  {'id': '4d71bc2d-56f4-450e-86f7-749a5d1c1728',\n",
       "   'url': 'https://i.imgur.com/g336kps.jpg',\n",
       "   'normalizedUrl': 'https://imgur.com/g336kps',\n",
       "   'thumbnail': 'https://i.imgur.com/g336kpsl.jpg',\n",
       "   'type': 'image/imgur',\n",
       "   'tags': ['ANNOTATED'],\n",
       "   'createdAt': '2020-01-01T05:52:23.065Z',\n",
       "   'updatedAt': '2020-01-01T06:10:26.660Z'},\n",
       "  {'id': 'b01e09c5-c5e0-4801-8708-573ba041df09',\n",
       "   'url': 'https://www.dcard.tw/v2/vivid/videos/cc3dd4e6-6bab-447a-9c3b-4264ee3b26d0?r=0.5625',\n",
       "   'normalizedUrl': '',\n",
       "   'thumbnail': 'https://vivid.dcard.tw/Public/cc3dd4e6-6bab-447a-9c3b-4264ee3b26d0/thumbnail.jpg',\n",
       "   'type': 'video/vivid',\n",
       "   'tags': ['ANNOTATED_FAILED'],\n",
       "   'createdAt': '2020-01-01T06:10:02.873Z',\n",
       "   'updatedAt': '2020-01-01T06:10:26.660Z'}],\n",
       " 'reactions': [{'id': '286f599c-f86a-4932-82f0-f5a06f1eca03', 'count': 995},\n",
       "  {'id': 'e8e6bc5d-41b0-4129-b134-97507523d7ff', 'count': 36}],\n",
       " 'hidden': False,\n",
       " 'customStyle': None,\n",
       " 'isSuspiciousAccount': False,\n",
       " 'layout': 'classic',\n",
       " 'withImages': True,\n",
       " 'withVideos': True,\n",
       " 'media': [{'url': 'https://i.imgur.com/ErHg8pm.jpg'},\n",
       "  {'url': 'https://i.imgur.com/BTNsioK.jpg'},\n",
       "  {'url': 'https://i.imgur.com/CzgTlBw.jpg'},\n",
       "  {'url': 'https://vivid.dcard.tw/Public/87e2cb19-12d9-4d5a-82de-49ca8ab44a0c/thumbnail.jpg'},\n",
       "  {'url': 'https://i.imgur.com/Ih06T14.jpg'},\n",
       "  {'url': 'https://i.imgur.com/g336kps.jpg'},\n",
       "  {'url': 'https://vivid.dcard.tw/Public/cc3dd4e6-6bab-447a-9c3b-4264ee3b26d0/thumbnail.jpg'}],\n",
       " 'reportReasonText': '',\n",
       " 'postAvatar': ''}"
      ]
     },
     "execution_count": 4,
     "metadata": {},
     "output_type": "execute_result"
    }
   ],
   "source": [
    "# 1. 這個 API 一次會回傳幾筆資料？每一筆資料包含哪些欄位？\n",
    "\n",
    "import requests\n",
    "import json\n",
    "\n",
    "r=requests.get('https://www.dcard.tw/_api/forums/pet/posts?popular=true')\n",
    "data = json.loads(r.text)\n",
    "len(data)#筆數\n",
    "data[0]"
   ]
  },
  {
   "cell_type": "code",
   "execution_count": 5,
   "metadata": {},
   "outputs": [
    {
     "name": "stdout",
     "output_type": "stream",
     "text": [
      "有人缺鬧鐘嗎？ 2020-01-01T05:52:23.065Z 16 1031\n",
      "貓貓每天跟你們睡覺嗎？ 2020-01-01T10:55:51.570Z 25 597\n",
      "不要看倉鼠很可愛就養 2020-01-01T13:18:45.264Z 24 359\n",
      "不要的衣服再利用😂 2020-01-01T11:33:16.205Z 7 132\n",
      "同學你的貓被通緝了 2020-01-01T16:49:06.086Z 5 130\n",
      "貓真的是一個很擊敗的動物 2020-01-01T13:49:00.793Z 3 67\n",
      "2019年末最悲慘柴犬（文長～ 2020-01-01T08:53:24.674Z 15 64\n",
      "史上最會吃醋的老鼠 2020-01-01T03:33:19.751Z 9 44\n",
      "交換禮物收到一隻皮卡丘 2020-01-01T15:31:54.352Z 6 42\n",
      "❗️急❗️寵物走失協尋 2020-01-01T08:36:12.985Z 4 42\n",
      "‼️‼️‼️‼️狗狗走失‼️‼️‼️急😭幫協尋！！！（已找到）謝謝大家❤️ 2020-01-01T12:41:46.744Z 0 36\n",
      "迷路的黃色柴柴 2020-01-01T14:10:51.678Z 0 27\n",
      "這個也不及格哦 2020-01-01T10:54:49.726Z 9 26\n",
      "角蛙蛙蛙 2020-01-01T04:21:42.649Z 3 26\n",
      "金鼠年♥ 2020-01-01T03:10:53.382Z 5 21\n",
      "愛他不要傷害他好嗎 2020-01-01T19:56:12.140Z 8 19\n",
      "心痛！保育林地拍下石虎　也拍到獵人身影 2020-01-02T03:12:03.198Z 2 15\n",
      "鼠年好運鼠交友會！ 2020-01-02T03:46:30.225Z 2 14\n",
      "為什麼我的貓不給接近又不要我走 2020-01-01T03:56:55.318Z 4 14\n",
      "#轉發 台北中正區 狗狗走失‼️ 2020-01-01T10:01:47.299Z 1 13\n",
      "第一次的跨年paˋ 2020-01-01T04:49:04.121Z 2 13\n",
      "我不相信寵物溝通師算是異類嗎 2020-01-01T11:50:16.941Z 11 12\n",
      "冬天常出現的蝦子🦐 2020-01-01T14:26:57.897Z 4 11\n",
      "排隊貓 2020-01-01T17:17:13.336Z 0 10\n",
      "想蓋一棟斑斑樓 2020-01-01T13:34:00.377Z 7 8\n",
      "胖到滿出來？！？！ 2020-01-01T10:47:31.694Z 2 8\n",
      "會跑的年糕（影） 2020-01-01T05:59:32.912Z 1 8\n",
      "短鯛 2020-01-02T05:07:45.070Z 0 6\n",
      "#詢問 鬥魚會放空、躺平 2020-01-01T00:59:42.720Z 6 6\n",
      "很堅持的王子🐹 2020-01-01T14:59:07.317Z 0 5\n"
     ]
    }
   ],
   "source": [
    "# 2. 取出每一筆資料的「標題」、「貼文時間」、「留言人數」、「按讚人數」\n",
    "for d in data:\n",
    "    print(d['title'], d['createdAt'], d['commentCount'], d['likeCount'])"
   ]
  },
  {
   "cell_type": "code",
   "execution_count": 46,
   "metadata": {
    "scrolled": true
   },
   "outputs": [
    {
     "data": {
      "text/plain": [
       "[[16,\n",
       "  25,\n",
       "  24,\n",
       "  7,\n",
       "  5,\n",
       "  3,\n",
       "  15,\n",
       "  9,\n",
       "  6,\n",
       "  4,\n",
       "  0,\n",
       "  0,\n",
       "  9,\n",
       "  3,\n",
       "  5,\n",
       "  8,\n",
       "  2,\n",
       "  2,\n",
       "  4,\n",
       "  1,\n",
       "  2,\n",
       "  11,\n",
       "  4,\n",
       "  0,\n",
       "  7,\n",
       "  2,\n",
       "  1,\n",
       "  0,\n",
       "  6,\n",
       "  0],\n",
       " [1031,\n",
       "  597,\n",
       "  359,\n",
       "  132,\n",
       "  130,\n",
       "  67,\n",
       "  64,\n",
       "  44,\n",
       "  42,\n",
       "  42,\n",
       "  36,\n",
       "  27,\n",
       "  26,\n",
       "  26,\n",
       "  21,\n",
       "  19,\n",
       "  15,\n",
       "  14,\n",
       "  14,\n",
       "  13,\n",
       "  13,\n",
       "  12,\n",
       "  11,\n",
       "  10,\n",
       "  8,\n",
       "  8,\n",
       "  8,\n",
       "  6,\n",
       "  6,\n",
       "  5]]"
      ]
     },
     "execution_count": 46,
     "metadata": {},
     "output_type": "execute_result"
    }
   ],
   "source": [
    "# 3. 計算熱門/非熱門文章的「平均留言人數」與「平均按讚人數」\n",
    "\n",
    "pop=[list() for _ in range (1,3,1)]\n",
    "for d in data:\n",
    "    pop[0].append( d['commentCount'])\n",
    "    pop[1].append( d['likeCount'])\n",
    "pop"
   ]
  },
  {
   "cell_type": "code",
   "execution_count": 53,
   "metadata": {},
   "outputs": [
    {
     "name": "stdout",
     "output_type": "stream",
     "text": [
      "6.033333333333333\n",
      "93.53333333333333\n"
     ]
    }
   ],
   "source": [
    "print(sum(pop[0])/len(pop[0]))\n",
    "print(sum(pop[1])/len(pop[1]))"
   ]
  }
 ],
 "metadata": {
  "kernelspec": {
   "display_name": "Python 3",
   "language": "python",
   "name": "python3"
  },
  "language_info": {
   "codemirror_mode": {
    "name": "ipython",
    "version": 3
   },
   "file_extension": ".py",
   "mimetype": "text/x-python",
   "name": "python",
   "nbconvert_exporter": "python",
   "pygments_lexer": "ipython3",
   "version": "3.7.3"
  }
 },
 "nbformat": 4,
 "nbformat_minor": 2
}
